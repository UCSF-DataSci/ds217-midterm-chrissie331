{
 "cells": [
  {
   "cell_type": "markdown",
   "metadata": {},
   "source": [
    "# Assignment 5, Question 7: Group Operations & Final Analysis\n",
    "\n",
    "**Points: 15**\n",
    "\n",
    "Perform grouped analysis and create summary reports."
   ]
  },
  {
   "cell_type": "markdown",
   "metadata": {},
   "source": [
    "## Setup"
   ]
  },
  {
   "cell_type": "code",
   "execution_count": 1,
   "metadata": {},
   "outputs": [
    {
     "name": "stdout",
     "output_type": "stream",
     "text": [
      "Loaded 10000 patients\n"
     ]
    }
   ],
   "source": [
    "import pandas as pd\n",
    "import numpy as np\n",
    "import matplotlib.pyplot as plt\n",
    "\n",
    "# Import utilities\n",
    "from q3_data_utils import load_data, summarize_by_group\n",
    "\n",
    "df = load_data('data/clinical_trial_raw.csv')\n",
    "print(f\"Loaded {len(df)} patients\")\n",
    "\n",
    "# Prewritten visualization function for grouped analysis\n",
    "def plot_group_comparison(data, x_col, y_col, title):\n",
    "    \"\"\"\n",
    "    Create a bar chart comparing groups.\n",
    "    \n",
    "    Args:\n",
    "        data: DataFrame with grouped data\n",
    "        x_col: Column name for x-axis (groups)\n",
    "        y_col: Column name for y-axis (values)\n",
    "        title: Chart title\n",
    "    \"\"\"\n",
    "    plt.figure(figsize=(10, 6))\n",
    "    data.plot(x=x_col, y=y_col, kind='bar')\n",
    "    plt.title(title)\n",
    "    plt.xticks(rotation=45)\n",
    "    plt.tight_layout()\n",
    "    plt.show()"
   ]
  },
  {
   "cell_type": "markdown",
   "metadata": {},
   "source": [
    "## Part 1: Basic Groupby (5 points)\n",
    "\n",
    "1. Group by 'site' and calculate mean age, BMI, and blood pressure\n",
    "2. Group by 'intervention_group' and count patients\n",
    "3. Use the `summarize_by_group()` utility to get overall statistics by site"
   ]
  },
  {
   "cell_type": "code",
   "execution_count": 5,
   "metadata": {},
   "outputs": [
    {
     "name": "stdout",
     "output_type": "stream",
     "text": [
      "     site        age        bmi  systolic_bp\n",
      "0  site a  56.364005  25.875183   117.354284\n",
      "1  site b  62.401957  25.706681   117.130675\n",
      "2  site c  57.312108  25.789583   117.978359\n",
      "3  site d  63.491006  25.565682   117.943662\n",
      "4  site e  57.064897  25.476502   117.503080\n"
     ]
    }
   ],
   "source": [
    "# TODO: Group by site\n",
    "\n",
    "site_copy = df.copy()\n",
    "site_copy['site'] = site_copy['site'].str.strip().str.lower().str.replace(\"_\",\" \").str.replace(\"  \",\" \")\n",
    "site_summary = (\n",
    "    site_copy.groupby('site')[['age', 'bmi', 'systolic_bp']].mean().reset_index()\n",
    ")\n",
    "\n",
    "print(site_summary)\n",
    "\n"
   ]
  },
  {
   "cell_type": "code",
   "execution_count": 9,
   "metadata": {},
   "outputs": [
    {
     "name": "stdout",
     "output_type": "stream",
     "text": [
      "   intervention_group  patient_count\n",
      "0           CONTROL               84\n",
      "1            Contrl               73\n",
      "2           Control               95\n",
      "3       TREATMENT A               65\n",
      "4       TREATMENT B               83\n",
      "5        Treatmen A               60\n",
      "6      Treatment  B               64\n",
      "7       Treatment A               66\n",
      "8       Treatment B              104\n",
      "9        TreatmentA               66\n",
      "10          control               83\n",
      "11      treatment a               67\n",
      "12      treatment b               90\n",
      "13            CONTROL            715\n",
      "14             Contrl            802\n",
      "15            Control            751\n",
      "16        TREATMENT A            572\n",
      "17        TREATMENT B            761\n",
      "18         Treatmen A            592\n",
      "19       Treatment  B            760\n",
      "20        Treatment A            610\n",
      "21        Treatment B            730\n",
      "22         TreatmentA            635\n",
      "23            control            734\n",
      "24        treatment a            588\n",
      "25        treatment b            750\n"
     ]
    }
   ],
   "source": [
    "# TODO: Count by intervention group\n",
    "\n",
    "df_copy = df.copy()\n",
    "intervention_group_counts = (\n",
    "    df_copy.groupby('intervention_group').size().reset_index(name = 'patient_count')\n",
    ")\n",
    "\n",
    "print(intervention_group_counts)\n"
   ]
  },
  {
   "cell_type": "markdown",
   "metadata": {},
   "source": [
    "**Note:** The `summarize_by_group()` function has an optional `agg_dict` parameter for custom aggregations. If you don't specify it, it will use `.describe()` on numeric columns. You can use `agg_dict={'age': ['mean', 'std'], 'bmi': 'mean'}` for custom aggregations.\n"
   ]
  },
  {
   "cell_type": "code",
   "execution_count": 7,
   "metadata": {},
   "outputs": [
    {
     "name": "stdout",
     "output_type": "stream",
     "text": [
      "              age                    bmi           systolic_bp           \n",
      "             mean         std       mean       std        mean        std\n",
      "site                                                                     \n",
      "site a  56.364005  162.536292  25.875183  4.983102  117.354284  14.109332\n",
      "site b  62.401957  139.050180  25.706681  5.017423  117.130675  13.532200\n",
      "site c  57.312108  157.941868  25.789583  5.417217  117.978359  13.974010\n",
      "site d  63.491006  136.140058  25.565682  5.881319  117.943662  13.906298\n",
      "site e  57.064897  157.697644  25.476502  6.084532  117.503080  14.696501\n"
     ]
    }
   ],
   "source": [
    "# TODO: Use summarize_by_group utility\n",
    "agg_dict = {\n",
    "    'age': ['mean', 'std'],\n",
    "    'bmi': ['mean', 'std'],\n",
    "    'systolic_bp': ['mean', 'std']\n",
    " }\n",
    "\n",
    "overall_stats = summarize_by_group(site_copy, group_col = 'site', agg_dict = agg_dict)\n",
    "\n",
    "print(overall_stats)\n"
   ]
  },
  {
   "cell_type": "markdown",
   "metadata": {},
   "source": [
    "## Part 2: Multiple Aggregations (5 points)\n",
    "\n",
    "Group by 'site' and apply multiple aggregations:\n",
    "- age: mean, std, min, max\n",
    "- bmi: mean, std\n",
    "- systolic_bp: mean, median\n",
    "\n",
    "Display the results in a well-formatted table."
   ]
  },
  {
   "cell_type": "code",
   "execution_count": 10,
   "metadata": {},
   "outputs": [
    {
     "name": "stdout",
     "output_type": "stream",
     "text": [
      "      age                           bmi          systolic_bp       \n",
      "     mean        std  min max      mean      std        mean median\n",
      "56.364005 162.536292 -999 100 25.875183 4.983102  117.354284  117.0\n",
      "62.401957 139.050180 -999 100 25.706681 5.017423  117.130675  117.0\n",
      "57.312108 157.941868 -999 100 25.789583 5.417217  117.978359  118.0\n",
      "63.491006 136.140058 -999 100 25.565682 5.881319  117.943662  118.0\n",
      "57.064897 157.697644 -999 100 25.476502 6.084532  117.503080  117.0\n"
     ]
    }
   ],
   "source": [
    "# TODO: Multiple aggregations\n",
    "site_overall = (\n",
    "    site_copy.groupby('site')\n",
    "        .agg({\n",
    "           'age': ['mean', 'std', 'min', 'max'],\n",
    "           'bmi': ['mean', 'std'],\n",
    "           'systolic_bp': ['mean', 'median']\n",
    "        })\n",
    ")\n",
    "\n",
    "print(site_overall.to_string(index=False))"
   ]
  },
  {
   "cell_type": "markdown",
   "metadata": {},
   "source": [
    "## Part 3: Comparative Analysis (5 points)\n",
    "\n",
    "Compare intervention groups:\n",
    "1. Calculate mean outcome_cvd rate by intervention_group\n",
    "2. Calculate mean adherence_pct by intervention_group\n",
    "3. Create a cross-tabulation of intervention_group vs dropout status\n",
    "4. Visualize the comparison with a bar plot"
   ]
  },
  {
   "cell_type": "code",
   "execution_count": null,
   "metadata": {},
   "outputs": [
    {
     "name": "stdout",
     "output_type": "stream",
     "text": [
      "   intervention_group  mean_outcome_cvd\n",
      "0           CONTROL                 NaN\n",
      "1            Contrl                 NaN\n",
      "2           Control                 NaN\n",
      "3       TREATMENT A                 NaN\n",
      "4       TREATMENT B                 NaN\n",
      "5        Treatmen A                 NaN\n",
      "6      Treatment  B                 NaN\n",
      "7       Treatment A                 NaN\n",
      "8       Treatment B                 NaN\n",
      "9        TreatmentA                 NaN\n",
      "10          control                 NaN\n",
      "11      treatment a                 NaN\n",
      "12      treatment b                 NaN\n",
      "13            CONTROL               NaN\n",
      "14             Contrl               NaN\n",
      "15            Control               NaN\n",
      "16        TREATMENT A               NaN\n",
      "17        TREATMENT B               NaN\n",
      "18         Treatmen A               NaN\n",
      "19       Treatment  B               NaN\n",
      "20        Treatment A               NaN\n",
      "21        Treatment B               NaN\n",
      "22         TreatmentA               NaN\n",
      "23            control               NaN\n",
      "24        treatment a               NaN\n",
      "25        treatment b               NaN\n",
      "   intervention_group  mean_adherence_pct\n",
      "0           CONTROL             58.705882\n",
      "1            Contrl             61.263158\n",
      "2           Control             61.361446\n",
      "3       TREATMENT A             57.296296\n",
      "4       TREATMENT B             62.171053\n",
      "5        Treatmen A             60.566038\n",
      "6      Treatment  B             59.740741\n",
      "7       Treatment A             61.358491\n",
      "8       Treatment B             58.872093\n",
      "9        TreatmentA             58.528302\n",
      "10          control             63.955882\n",
      "11      treatment a             60.169811\n",
      "12      treatment b             65.702703\n",
      "13            CONTROL           60.623140\n",
      "14             Contrl           59.854015\n",
      "15            Control           61.156250\n",
      "16        TREATMENT A           60.522634\n",
      "17        TREATMENT B           60.360656\n",
      "18         Treatmen A           59.771203\n",
      "19       Treatment  B           60.931715\n",
      "20        Treatment A           61.347826\n",
      "21        Treatment B           61.385484\n",
      "22         TreatmentA           59.295749\n",
      "23            control           60.603200\n",
      "24        treatment a           60.474104\n",
      "25        treatment b           61.120444\n",
      "dropout              No  Yes\n",
      "intervention_group          \n",
      "  CONTROL            68   16\n",
      "  Contrl             57   16\n",
      "  Control            83   12\n",
      "  TREATMENT A        54   11\n",
      "  TREATMENT B        76    7\n",
      "  Treatmen A         53    7\n",
      "  Treatment  B       54   10\n",
      "  Treatment A        53   13\n",
      "  Treatment B        86   18\n",
      "  TreatmentA         53   13\n",
      "  control            68   15\n",
      "  treatment a        53   14\n",
      "  treatment b        74   16\n",
      "CONTROL             605  110\n",
      "Contrl              685  117\n",
      "Control             640  111\n",
      "TREATMENT A         486   86\n",
      "TREATMENT B         671   90\n",
      "Treatmen A          507   85\n",
      "Treatment  B        659  101\n",
      "Treatment A         529   81\n",
      "Treatment B         620  110\n",
      "TreatmentA          541   94\n",
      "control             625  109\n",
      "treatment a         502   86\n",
      "treatment b         631  119\n"
     ]
    }
   ],
   "source": [
    "# TODO: Intervention group comparisons\n",
    "\n",
    "# Change outcome_cvd to numeric \n",
    "df_copy['outcome_cvd'] = pd.to_numeric(df_copy['outcome_cvd'], errors = 'coerce')\n",
    "\n",
    "# Calculate mean outcome_cvd rate by intervention_group\n",
    "cvd_summary = (df_copy.groupby('intervention_group')['outcome_cvd'].mean().reset_index(name = 'mean_outcome_cvd'))\n",
    "\n",
    "print(cvd_summary)\n",
    "\n",
    "# Calculate mean adherence_pct by intervention_group\n",
    "adherence_summary = (df_copy.groupby('intervention_group')['adherence_pct'].mean().reset_index(name='mean_adherence_pct'))   \n",
    "\n",
    "print(adherence_summary)\n",
    "\n",
    "#Create a cross-tabulation of intervention_group vs dropout \n",
    "cross_tab_inter_dropout = pd.crosstab(df_copy['intervention_group'], df_copy['dropout'])\n",
    "\n",
    "print(cross_tab_inter_dropout) \n",
    "\n",
    "\n",
    "\n"
   ]
  },
  {
   "cell_type": "code",
   "execution_count": 17,
   "metadata": {},
   "outputs": [
    {
     "data": {
      "image/png": "[encoded data removed]",
      "text/plain": [
       "<Figure size 800x500 with 1 Axes>"
      ]
     },
     "metadata": {},
     "output_type": "display_data"
    }
   ],
   "source": [
    "# TODO: Visualization\n",
    "\n",
    "import seaborn as sns\n",
    "\n",
    "merged_summary = pd.merge(cvd_summary, adherence_summary, on='intervention_group')\n",
    "\n",
    "plot_df_copy = merged_summary.melt(id_vars = 'intervention_group', value_vars = ['mean_outcome_cvd', 'mean_adherence_pct'], var_name = 'Metric', value_name = 'Value')\n",
    "\n",
    "plt.figure(figsize = (8,5))\n",
    "sns.barplot(data = plot_df_copy, x = 'intervention_group', y = 'Value', hue = 'Metric')\n",
    "\n",
    "plt.title('Comparison by Intervention Group')\n",
    "plt.ylabel('Mean Value')\n",
    "plt.xlabel('Intervention Group')\n",
    "plt.legend(title = 'Metric', labels = ['CVD Rate', 'Adherence(%)'])\n",
    "plt.tight_layout()\n",
    "plt.show()\n",
    "                                   \n",
    "\n",
    "\n",
    "\n"
   ]
  },
  {
   "cell_type": "markdown",
   "metadata": {},
   "source": [
    "## Part 4: Final Report\n",
    "\n",
    "Create and save:\n",
    "1. Summary statistics by site → `output/q7_site_summary.csv`\n",
    "2. Intervention group comparison → `output/q7_intervention_comparison.csv`\n",
    "3. Text report with key findings → `output/q7_analysis_report.txt`"
   ]
  },
  {
   "cell_type": "code",
   "execution_count": null,
   "metadata": {},
   "outputs": [],
   "source": [
    "# TODO: Save summary outputs\n",
    "\n",
    "overall_stats.to_csv('output/q7_site_summary.csv')\n",
    "\n"
   ]
  },
  {
   "cell_type": "markdown",
   "metadata": {},
   "source": [
    "## Summary\n",
    "\n",
    "What are the 3 most important findings from your analysis?"
   ]
  },
  {
   "cell_type": "markdown",
   "metadata": {},
   "source": [
    "**Key Findings:**\n",
    "\n",
    "1. TODO\n",
    "2. TODO\n",
    "3. TODO\n"
   ]
  }
 ],
 "metadata": {
  "kernelspec": {
   "display_name": ".venv",
   "language": "python",
   "name": "python3"
  },
  "language_info": {
   "codemirror_mode": {
    "name": "ipython",
    "version": 3
   },
   "file_extension": ".py",
   "mimetype": "text/x-python",
   "name": "python",
   "nbconvert_exporter": "python",
   "pygments_lexer": "ipython3",
   "version": "3.13.7"
  }
 },
 "nbformat": 4,
 "nbformat_minor": 2
}
