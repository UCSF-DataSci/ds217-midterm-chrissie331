{
 "cells": [
  {
   "cell_type": "markdown",
   "metadata": {},
   "source": [
    "# Assignment 5, Question 7: Group Operations & Final Analysis\n",
    "\n",
    "**Points: 15**\n",
    "\n",
    "Perform grouped analysis and create summary reports."
   ]
  },
  {
   "cell_type": "markdown",
   "metadata": {},
   "source": [
    "## Setup"
   ]
  },
  {
   "cell_type": "code",
   "execution_count": 1,
   "metadata": {},
   "outputs": [
    {
     "name": "stdout",
     "output_type": "stream",
     "text": [
      "Loaded 10000 patients\n"
     ]
    }
   ],
   "source": [
    "import pandas as pd\n",
    "import numpy as np\n",
    "import matplotlib.pyplot as plt\n",
    "\n",
    "# Import utilities\n",
    "from q3_data_utils import load_data, summarize_by_group\n",
    "\n",
    "df = load_data('data/clinical_trial_raw.csv')\n",
    "print(f\"Loaded {len(df)} patients\")\n",
    "\n",
    "# Prewritten visualization function for grouped analysis\n",
    "def plot_group_comparison(data, x_col, y_col, title):\n",
    "    \"\"\"\n",
    "    Create a bar chart comparing groups.\n",
    "    \n",
    "    Args:\n",
    "        data: DataFrame with grouped data\n",
    "        x_col: Column name for x-axis (groups)\n",
    "        y_col: Column name for y-axis (values)\n",
    "        title: Chart title\n",
    "    \"\"\"\n",
    "    plt.figure(figsize=(10, 6))\n",
    "    data.plot(x=x_col, y=y_col, kind='bar')\n",
    "    plt.title(title)\n",
    "    plt.xticks(rotation=45)\n",
    "    plt.tight_layout()\n",
    "    plt.show()"
   ]
  },
  {
   "cell_type": "markdown",
   "metadata": {},
   "source": [
    "## Part 1: Basic Groupby (5 points)\n",
    "\n",
    "1. Group by 'site' and calculate mean age, BMI, and blood pressure\n",
    "2. Group by 'intervention_group' and count patients\n",
    "3. Use the `summarize_by_group()` utility to get overall statistics by site"
   ]
  },
  {
   "cell_type": "code",
   "execution_count": 2,
   "metadata": {},
   "outputs": [
    {
     "name": "stdout",
     "output_type": "stream",
     "text": [
      "     site        age        bmi  systolic_bp\n",
      "0  site a  56.364005  25.875183   117.354284\n",
      "1  site b  62.401957  25.706681   117.130675\n",
      "2  site c  57.312108  25.789583   117.978359\n",
      "3  site d  63.491006  25.565682   117.943662\n",
      "4  site e  57.064897  25.476502   117.503080\n"
     ]
    }
   ],
   "source": [
    "# TODO: Group by site\n",
    "\n",
    "site_copy = df.copy()\n",
    "site_copy['site'] = site_copy['site'].str.strip().str.lower().str.replace(\"_\",\" \").str.replace(\"  \",\" \")\n",
    "site_summary = (\n",
    "    site_copy.groupby('site')[['age', 'bmi', 'systolic_bp']].mean().reset_index()\n",
    ")\n",
    "\n",
    "print(site_summary)\n",
    "\n"
   ]
  },
  {
   "cell_type": "code",
   "execution_count": 8,
   "metadata": {},
   "outputs": [
    {
     "name": "stdout",
     "output_type": "stream",
     "text": [
      "  intervention_group  patient_count\n",
      "0            control           3337\n",
      "1        treatment a           3321\n",
      "2        treatment b           3342\n"
     ]
    }
   ],
   "source": [
    "# TODO: Count by intervention group\n",
    "\n",
    "df_copy = df.copy()\n",
    "df_copy['intervention_group'] = (\n",
    "    df_copy['intervention_group']\n",
    "    .str.strip()\n",
    "    .str.lower()\n",
    "    .str.replace(\"_\", \" \")\n",
    "    .str.split()\n",
    "    .str.join(\" \")\n",
    "    .replace({\n",
    "        \"contrl\": \"control\",\n",
    "        \"treatmen a\": \"treatment a\",\n",
    "        \"treatmenta\": \"treatment a\"\n",
    "    })\n",
    ")\n",
    "\n",
    "intervention_group_counts = (\n",
    "    df_copy.groupby('intervention_group').size().reset_index(name = 'patient_count')\n",
    ")\n",
    "\n",
    "print(intervention_group_counts)\n"
   ]
  },
  {
   "cell_type": "markdown",
   "metadata": {},
   "source": [
    "**Note:** The `summarize_by_group()` function has an optional `agg_dict` parameter for custom aggregations. If you don't specify it, it will use `.describe()` on numeric columns. You can use `agg_dict={'age': ['mean', 'std'], 'bmi': 'mean'}` for custom aggregations.\n"
   ]
  },
  {
   "cell_type": "code",
   "execution_count": 9,
   "metadata": {},
   "outputs": [
    {
     "name": "stdout",
     "output_type": "stream",
     "text": [
      "              age                    bmi           systolic_bp           \n",
      "             mean         std       mean       std        mean        std\n",
      "site                                                                     \n",
      "site a  56.364005  162.536292  25.875183  4.983102  117.354284  14.109332\n",
      "site b  62.401957  139.050180  25.706681  5.017423  117.130675  13.532200\n",
      "site c  57.312108  157.941868  25.789583  5.417217  117.978359  13.974010\n",
      "site d  63.491006  136.140058  25.565682  5.881319  117.943662  13.906298\n",
      "site e  57.064897  157.697644  25.476502  6.084532  117.503080  14.696501\n"
     ]
    }
   ],
   "source": [
    "# TODO: Use summarize_by_group utility\n",
    "agg_dict = {\n",
    "    'age': ['mean', 'std'],\n",
    "    'bmi': ['mean', 'std'],\n",
    "    'systolic_bp': ['mean', 'std']\n",
    " }\n",
    "\n",
    "overall_stats = summarize_by_group(site_copy, group_col = 'site', agg_dict = agg_dict)\n",
    "\n",
    "print(overall_stats)\n"
   ]
  },
  {
   "cell_type": "markdown",
   "metadata": {},
   "source": [
    "## Part 2: Multiple Aggregations (5 points)\n",
    "\n",
    "Group by 'site' and apply multiple aggregations:\n",
    "- age: mean, std, min, max\n",
    "- bmi: mean, std\n",
    "- systolic_bp: mean, median\n",
    "\n",
    "Display the results in a well-formatted table."
   ]
  },
  {
   "cell_type": "code",
   "execution_count": 10,
   "metadata": {},
   "outputs": [
    {
     "name": "stdout",
     "output_type": "stream",
     "text": [
      "      age                           bmi          systolic_bp       \n",
      "     mean        std  min max      mean      std        mean median\n",
      "56.364005 162.536292 -999 100 25.875183 4.983102  117.354284  117.0\n",
      "62.401957 139.050180 -999 100 25.706681 5.017423  117.130675  117.0\n",
      "57.312108 157.941868 -999 100 25.789583 5.417217  117.978359  118.0\n",
      "63.491006 136.140058 -999 100 25.565682 5.881319  117.943662  118.0\n",
      "57.064897 157.697644 -999 100 25.476502 6.084532  117.503080  117.0\n"
     ]
    }
   ],
   "source": [
    "# TODO: Multiple aggregations\n",
    "site_overall = (\n",
    "    site_copy.groupby('site')\n",
    "        .agg({\n",
    "           'age': ['mean', 'std', 'min', 'max'],\n",
    "           'bmi': ['mean', 'std'],\n",
    "           'systolic_bp': ['mean', 'median']\n",
    "        })\n",
    ")\n",
    "\n",
    "print(site_overall.to_string(index=False))"
   ]
  },
  {
   "cell_type": "markdown",
   "metadata": {},
   "source": [
    "## Part 3: Comparative Analysis (5 points)\n",
    "\n",
    "Compare intervention groups:\n",
    "1. Calculate mean outcome_cvd rate by intervention_group\n",
    "2. Calculate mean adherence_pct by intervention_group\n",
    "3. Create a cross-tabulation of intervention_group vs dropout status\n",
    "4. Visualize the comparison with a bar plot"
   ]
  },
  {
   "cell_type": "code",
   "execution_count": 11,
   "metadata": {},
   "outputs": [
    {
     "name": "stdout",
     "output_type": "stream",
     "text": [
      "  intervention_group  mean_outcome_cvd\n",
      "0            control          0.336530\n",
      "1        treatment a          0.319482\n",
      "2        treatment b          0.333633\n",
      "  intervention_group  mean_adherence_pct\n",
      "0            control           60.621688\n",
      "1        treatment a           60.210173\n",
      "2        treatment b           61.009404\n",
      "dropout               No  Yes\n",
      "intervention_group           \n",
      "control             2831  506\n",
      "treatment a         2831  490\n",
      "treatment b         2871  471\n"
     ]
    }
   ],
   "source": [
    "# TODO: Intervention group comparisons\n",
    "\n",
    "# Change outcome_cvd to numeric \n",
    "df_copy['outcome_cvd'] = df_copy['outcome_cvd'].str.strip().str.lower().map({'yes': 1, 'no': 0})\n",
    "\n",
    "# Calculate mean outcome_cvd rate by intervention_group\n",
    "cvd_summary = (df_copy.groupby('intervention_group')['outcome_cvd'].mean().reset_index(name = 'mean_outcome_cvd'))\n",
    "\n",
    "print(cvd_summary)\n",
    "\n",
    "# Calculate mean adherence_pct by intervention_group\n",
    "adherence_summary = (df_copy.groupby('intervention_group')['adherence_pct'].mean().reset_index(name='mean_adherence_pct'))   \n",
    "\n",
    "print(adherence_summary)\n",
    "\n",
    "#Create a cross-tabulation of intervention_group vs dropout \n",
    "cross_tab_inter_dropout = pd.crosstab(df_copy['intervention_group'], df_copy['dropout'])\n",
    "\n",
    "print(cross_tab_inter_dropout) \n",
    "\n",
    "\n",
    "\n"
   ]
  },
  {
   "cell_type": "code",
   "execution_count": 20,
   "metadata": {},
   "outputs": [
    {
     "data": {
      "text/plain": [
       "<Figure size 1000x600 with 0 Axes>"
      ]
     },
     "metadata": {},
     "output_type": "display_data"
    },
    {
     "data": {
      "image/png": "[encoded data removed]",
      "text/plain": [
       "<Figure size 640x480 with 1 Axes>"
      ]
     },
     "metadata": {},
     "output_type": "display_data"
    },
    {
     "data": {
      "text/plain": [
       "<Figure size 1000x600 with 0 Axes>"
      ]
     },
     "metadata": {},
     "output_type": "display_data"
    },
    {
     "data": {
      "image/png": "[encoded data removed]",
      "text/plain": [
       "<Figure size 640x480 with 1 Axes>"
      ]
     },
     "metadata": {},
     "output_type": "display_data"
    }
   ],
   "source": [
    "# TODO: Visualization\n",
    "\n",
    "\n",
    "plot_group_comparison(cvd_summary, x_col = 'intervention_group', y_col = 'mean_outcome_cvd', title = \"Mean CVD Rate by Intervention Group\")\n",
    "plot_group_comparison(adherence_summary, x_col = 'intervention_group', y_col = 'mean_adherence_pct', title = 'Mean Adherence PCT by Intervention Group')\n",
    "\n",
    "                                \n"
   ]
  },
  {
   "cell_type": "markdown",
   "metadata": {},
   "source": [
    "## Part 4: Final Report\n",
    "\n",
    "Create and save:\n",
    "1. Summary statistics by site → `output/q7_site_summary.csv`\n",
    "2. Intervention group comparison → `output/q7_intervention_comparison.csv`\n",
    "3. Text report with key findings → `output/q7_analysis_report.txt`"
   ]
  },
  {
   "cell_type": "code",
   "execution_count": 13,
   "metadata": {},
   "outputs": [],
   "source": [
    "# TODO: Save summary outputs\n",
    "\n",
    "site_summary.to_csv('output/q7_site_summary.csv')\n",
    "\n",
    "intervention_comparison = pd.merge(cvd_summary, adherence_summary, on = 'intervention_group')\n",
    "intervention_comparison.to_csv('output/q7_intervention_comparison.csv')\n",
    "\n",
    "report = [\n",
    "    \"Report of Key Findings\",\n",
    "    \"========================\",\n",
    "    \"1. Summary by Site:\",\n",
    "    \"Mean of age, bmi and systolic blood pressure by site:\",\n",
    "    site_summary.to_string(index = False),\n",
    "    \"\",\n",
    "    \"2. Intervention Group Comparison:\",\n",
    "    \"Mean outcome cvd rate by intervention group:\",\n",
    "    cvd_summary.to_string(index=False),\n",
    "    \"Mean adherence_pct by intervention group:\",\n",
    "    adherence_summary.to_string(index=False)\n",
    "\n",
    "]\n",
    "\n",
    "with open('output/q7_analysis_report.txt', 'w') as f:\n",
    "    f.write('\\n'.join(report))\n",
    "\n",
    "\n",
    "\n"
   ]
  },
  {
   "cell_type": "markdown",
   "metadata": {},
   "source": [
    "## Summary\n",
    "\n",
    "What are the 3 most important findings from your analysis?"
   ]
  },
  {
   "cell_type": "markdown",
   "metadata": {},
   "source": [
    "**Key Findings:**\n",
    "\n",
    "1. When grouped by site, site d has the greatest mean in age,, but mean bmi and systolic_bp are pretty much the same throughout all sites. \n",
    "2. The mean outcome_cvd is highest in the control group. \n",
    "3. The mean adherence_pct is highest for Treatment B. \n"
   ]
  }
 ],
 "metadata": {
  "kernelspec": {
   "display_name": ".venv",
   "language": "python",
   "name": "python3"
  },
  "language_info": {
   "codemirror_mode": {
    "name": "ipython",
    "version": 3
   },
   "file_extension": ".py",
   "mimetype": "text/x-python",
   "name": "python",
   "nbconvert_exporter": "python",
   "pygments_lexer": "ipython3",
   "version": "3.13.7"
  }
 },
 "nbformat": 4,
 "nbformat_minor": 2
}
