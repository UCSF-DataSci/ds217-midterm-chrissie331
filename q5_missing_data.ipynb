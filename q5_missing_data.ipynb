{
 "cells": [
  {
   "cell_type": "markdown",
   "metadata": {},
   "source": [
    "# Assignment 5, Question 5: Missing Data Analysis\n",
    "\n",
    "**Points: 15**\n",
    "\n",
    "Apply and compare different missing data strategies on the clinical trial dataset."
   ]
  },
  {
   "cell_type": "markdown",
   "metadata": {},
   "source": [
    "## Setup"
   ]
  },
  {
   "cell_type": "code",
   "execution_count": 2,
   "metadata": {},
   "outputs": [
    {
     "name": "stdout",
     "output_type": "stream",
     "text": [
      "Loaded 10000 patients\n"
     ]
    }
   ],
   "source": [
    "import pandas as pd\n",
    "import numpy as np\n",
    "import matplotlib.pyplot as plt\n",
    "\n",
    "# Import utilities from Q3\n",
    "from q3_data_utils import load_data, detect_missing, fill_missing\n",
    "\n",
    "# Load the data\n",
    "df = load_data('data/clinical_trial_raw.csv')\n",
    "print(f\"Loaded {len(df)} patients\")\n",
    "\n",
    "# Prewritten visualization function for missing data\n",
    "def visualize_missing_data(missing_counts):\n",
    "    \"\"\"\n",
    "    Create a bar chart of missing values by column.\n",
    "    \n",
    "    Args:\n",
    "        missing_counts: pandas Series with missing value counts per column\n",
    "    \"\"\"\n",
    "    plt.figure(figsize=(10, 6))\n",
    "    missing_counts.plot(kind='bar')\n",
    "    plt.title('Missing Values by Column')\n",
    "    plt.xticks(rotation=45)\n",
    "    plt.ylabel('Number of Missing Values')\n",
    "    plt.tight_layout()\n",
    "    plt.show()"
   ]
  },
  {
   "cell_type": "markdown",
   "metadata": {},
   "source": [
    "## Part 1: Detect Missing Data (3 points)\n",
    "\n",
    "1. Use the `detect_missing()` utility to find missing values\n",
    "2. Visualize missing data with a bar plot\n",
    "3. Calculate the percentage of missing values per column"
   ]
  },
  {
   "cell_type": "code",
   "execution_count": null,
   "metadata": {},
   "outputs": [
    {
     "name": "stdout",
     "output_type": "stream",
     "text": [
      "patient_id               0\n",
      "age                      0\n",
      "sex                      0\n",
      "bmi                    438\n",
      "enrollment_date          0\n",
      "systolic_bp            414\n",
      "diastolic_bp           414\n",
      "cholesterol_total      554\n",
      "cholesterol_hdl        554\n",
      "cholesterol_ldl        554\n",
      "glucose_fasting        369\n",
      "site                     0\n",
      "intervention_group       0\n",
      "follow_up_months         0\n",
      "adverse_events           0\n",
      "outcome_cvd              0\n",
      "adherence_pct         1467\n",
      "dropout                  0\n",
      "dtype: int64\n",
      "patient_id             0.00\n",
      "age                    0.00\n",
      "sex                    0.00\n",
      "bmi                    4.38\n",
      "enrollment_date        0.00\n",
      "systolic_bp            4.14\n",
      "diastolic_bp           4.14\n",
      "cholesterol_total      5.54\n",
      "cholesterol_hdl        5.54\n",
      "cholesterol_ldl        5.54\n",
      "glucose_fasting        3.69\n",
      "site                   0.00\n",
      "intervention_group     0.00\n",
      "follow_up_months       0.00\n",
      "adverse_events         0.00\n",
      "outcome_cvd            0.00\n",
      "adherence_pct         14.67\n",
      "dropout                0.00\n",
      "dtype: float64\n",
      "['bmi', 'systolic_bp', 'diastolic_bp', 'cholesterol_total', 'cholesterol_hdl', 'cholesterol_ldl', 'glucose_fasting', 'adherence_pct']\n"
     ]
    }
   ],
   "source": [
    "# TODO: Detect and analyze missing data\n",
    "# 1. Use detect_missing(df) to get missing value counts\n",
    "# 2. Calculate percentage of missing values per column  \n",
    "# 3. Print both counts and percentages\n",
    "# 4. Identify which columns have missing data\n",
    "\n",
    "# Optional: Use the visualization function above to create a bar chart\n",
    "# visualize_missing_data(missing_counts)\n",
    "\n",
    "missing_counts = detect_missing(df)\n",
    "print(missing_counts)\n",
    "\n",
    "missing_percent = (missing_counts / len(df)) * 100 \n",
    "print(missing_percent)\n",
    "\n",
    "missing_col = missing_counts[missing_counts > 0].index.tolist()\n",
    "print(missing_col)\n",
    "\n"
   ]
  },
  {
   "cell_type": "markdown",
   "metadata": {},
   "source": [
    "## Part 2: Compare Imputation Strategies (6 points)\n",
    "\n",
    "For the 'cholesterol_total' column (which has missing values):\n",
    "\n",
    "1. Fill with mean using `fill_missing()` utility\n",
    "2. Fill with median using `fill_missing()` utility  \n",
    "3. Forward fill using pandas `.fillna(method='ffill')`\n",
    "4. Compare the three strategies - create a summary table showing:\n",
    "   - Original mean/median\n",
    "   - Mean/median after each strategy\n",
    "   - How many values were filled"
   ]
  },
  {
   "cell_type": "code",
   "execution_count": 4,
   "metadata": {},
   "outputs": [
    {
     "name": "stderr",
     "output_type": "stream",
     "text": [
      "/Users/chrissielok/Downloads/DATASCI_217/ds217-midterm-chrissie331/q3_data_utils.py:104: FutureWarning: Series.fillna with 'method' is deprecated and will raise in a future version. Use obj.ffill() or obj.bfill() instead.\n",
      "  df_filled[column] = df_filled[column].fillna(method = 'ffill')\n"
     ]
    }
   ],
   "source": [
    "# TODO: Compare imputation strategies\n",
    "\n",
    "cholestrol_mean = fill_missing(df, column = 'cholesterol_total', strategy = 'mean')\n",
    "cholesterol_median = fill_missing(df, column = 'cholesterol_total', strategy = 'median')\n",
    "cholesterol_ffill = fill_missing(df, column = 'cholesterol_total', strategy = 'ffill')\n",
    "\n",
    "\n",
    "\n",
    "\n"
   ]
  },
  {
   "cell_type": "markdown",
   "metadata": {},
   "source": [
    "## Part 3: Dropping Missing Data (3 points)\n",
    "\n",
    "1. Drop rows where ANY column has missing data - how many rows remain?\n",
    "2. Drop rows where specific columns have missing data (e.g., only 'age' or 'bmi')\n",
    "3. Which approach loses less data?"
   ]
  },
  {
   "cell_type": "code",
   "execution_count": null,
   "metadata": {},
   "outputs": [],
   "source": [
    "# TODO: Drop missing rows with different strategies\n"
   ]
  },
  {
   "cell_type": "markdown",
   "metadata": {},
   "source": [
    "## Part 4: Create Clean Dataset (3 points)\n",
    "\n",
    "Apply your chosen strategy to create a clean dataset:\n",
    "1. Choose appropriate imputation for numeric columns\n",
    "2. Drop rows with missing critical values (e.g., patient_id, age)\n",
    "3. Save to `output/q5_cleaned_data.csv`\n",
    "4. Save a missing data report to `output/q5_missing_report.txt`"
   ]
  },
  {
   "cell_type": "code",
   "execution_count": null,
   "metadata": {},
   "outputs": [],
   "source": [
    "# TODO: Create and save clean dataset\n"
   ]
  },
  {
   "cell_type": "markdown",
   "metadata": {},
   "source": [
    "## Reflection\n",
    "\n",
    "Which imputation strategy would you recommend for this dataset and why?"
   ]
  },
  {
   "cell_type": "markdown",
   "metadata": {},
   "source": [
    "**Your answer:**\n",
    "\n",
    "TODO: Explain your strategy choice\n"
   ]
  }
 ],
 "metadata": {
  "kernelspec": {
   "display_name": ".venv",
   "language": "python",
   "name": "python3"
  },
  "language_info": {
   "codemirror_mode": {
    "name": "ipython",
    "version": 3
   },
   "file_extension": ".py",
   "mimetype": "text/x-python",
   "name": "python",
   "nbconvert_exporter": "python",
   "pygments_lexer": "ipython3",
   "version": "3.13.7"
  }
 },
 "nbformat": 4,
 "nbformat_minor": 2
}
