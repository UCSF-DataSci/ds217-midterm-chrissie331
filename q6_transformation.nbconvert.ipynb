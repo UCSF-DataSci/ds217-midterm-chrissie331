{
 "cells": [
  {
   "cell_type": "markdown",
   "metadata": {},
   "source": [
    "# Assignment 5, Question 6: Data Transformation\n",
    "\n",
    "**Points: 20**\n",
    "\n",
    "Transform and engineer features from the clinical trial dataset."
   ]
  },
  {
   "cell_type": "markdown",
   "metadata": {},
   "source": [
    "## Setup"
   ]
  },
  {
   "cell_type": "code",
   "execution_count": 1,
   "metadata": {
    "execution": {
     "iopub.execute_input": "2025-10-22T21:28:37.038915Z",
     "iopub.status.busy": "2025-10-22T21:28:37.038441Z",
     "iopub.status.idle": "2025-10-22T21:28:37.774556Z",
     "shell.execute_reply": "2025-10-22T21:28:37.773818Z"
    }
   },
   "outputs": [
    {
     "name": "stdout",
     "output_type": "stream",
     "text": [
      "Loaded 10000 patients\n"
     ]
    }
   ],
   "source": [
    "import pandas as pd\n",
    "import numpy as np\n",
    "import matplotlib.pyplot as plt\n",
    "\n",
    "# Import utilities\n",
    "from q3_data_utils import load_data, clean_data, transform_types, create_bins, fill_missing\n",
    "\n",
    "df = load_data('data/clinical_trial_raw.csv')\n",
    "print(f\"Loaded {len(df)} patients\")\n",
    "\n",
    "# Prewritten visualization functions for transformation analysis\n",
    "def plot_distribution(series, title, figsize=(10, 6)):\n",
    "    \"\"\"\n",
    "    Create a histogram of a numeric series.\n",
    "    \n",
    "    Args:\n",
    "        series: pandas Series with numeric data\n",
    "        title: Chart title\n",
    "        figsize: Figure size tuple\n",
    "    \"\"\"\n",
    "    plt.figure(figsize=figsize)\n",
    "    series.hist(bins=30)\n",
    "    plt.title(title)\n",
    "    plt.xlabel('Value')\n",
    "    plt.ylabel('Frequency')\n",
    "    plt.tight_layout()\n",
    "    plt.show()\n",
    "\n",
    "def plot_value_counts(series, title, figsize=(10, 6)):\n",
    "    \"\"\"\n",
    "    Create a bar chart of value counts.\n",
    "    \n",
    "    Args:\n",
    "        series: pandas Series with value counts\n",
    "        title: Chart title\n",
    "        figsize: Figure size tuple\n",
    "    \"\"\"\n",
    "    plt.figure(figsize=figsize)\n",
    "    series.plot(kind='bar')\n",
    "    plt.title(title)\n",
    "    plt.xticks(rotation=45)\n",
    "    plt.tight_layout()\n",
    "    plt.show()"
   ]
  },
  {
   "cell_type": "markdown",
   "metadata": {},
   "source": [
    "## Part 1: Type Conversions (5 points)\n",
    "\n",
    "1. Convert 'enrollment_date' to datetime using the `transform_types()` utility\n",
    "2. Convert categorical columns ('site', 'intervention_group', 'sex') to category dtype\n",
    "3. Ensure all numeric columns are proper numeric types\n",
    "4. Display the updated dtypes"
   ]
  },
  {
   "cell_type": "code",
   "execution_count": 2,
   "metadata": {
    "execution": {
     "iopub.execute_input": "2025-10-22T21:28:37.813261Z",
     "iopub.status.busy": "2025-10-22T21:28:37.813008Z",
     "iopub.status.idle": "2025-10-22T21:28:37.830068Z",
     "shell.execute_reply": "2025-10-22T21:28:37.829062Z"
    }
   },
   "outputs": [
    {
     "name": "stdout",
     "output_type": "stream",
     "text": [
      "Numeric columns: Index(['age', 'bmi', 'systolic_bp', 'diastolic_bp', 'cholesterol_total',\n",
      "       'cholesterol_hdl', 'cholesterol_ldl', 'glucose_fasting',\n",
      "       'follow_up_months', 'adverse_events', 'adherence_pct'],\n",
      "      dtype='object')\n",
      "patient_id                    object\n",
      "age                            int64\n",
      "sex                         category\n",
      "bmi                          float64\n",
      "enrollment_date       datetime64[ns]\n",
      "systolic_bp                  float64\n",
      "diastolic_bp                 float64\n",
      "cholesterol_total            float64\n",
      "cholesterol_hdl              float64\n",
      "cholesterol_ldl              float64\n",
      "glucose_fasting              float64\n",
      "site                        category\n",
      "intervention_group          category\n",
      "follow_up_months               int64\n",
      "adverse_events                 int64\n",
      "outcome_cvd                   object\n",
      "adherence_pct                float64\n",
      "dropout                       object\n",
      "dtype: object\n"
     ]
    }
   ],
   "source": [
    "# TODO: Type conversions\n",
    "# 1. Use transform_types() to convert enrollment_date to datetime\n",
    "# 2. Convert categorical columns ('site', 'intervention_group', 'sex') to category dtype\n",
    "# 3. Ensure all numeric columns are proper numeric types\n",
    "# 4. Display the updated dtypes using df.dtypes\n",
    "\n",
    "# Converting enrollment_date and categorical columns\n",
    "df_copy = df.copy()\n",
    "type_map = {\n",
    "    'enrollment_date' : 'datetime',\n",
    "    'site' : 'category', \n",
    "    'intervention_group': 'category',\n",
    "    'sex': 'category'\n",
    "}\n",
    "df_copy = transform_types(df_copy, type_map)\n",
    "\n",
    "# Ensure all numeric columns are proper numeric types \n",
    "numeric_cols = df_copy.select_dtypes(include='number').columns\n",
    "print('Numeric columns:', numeric_cols)\n",
    "print(df_copy.dtypes)\n",
    "\n"
   ]
  },
  {
   "cell_type": "markdown",
   "metadata": {},
   "source": [
    "## Part 2: Feature Engineering (8 points)\n",
    "\n",
    "Create these new calculated columns:\n",
    "\n",
    "1. `cholesterol_ratio` = cholesterol_ldl / cholesterol_hdl\n",
    "2. `bp_category` = categorize systolic BP:\n",
    "   - 'Normal': < 120\n",
    "   - 'Elevated': 120-129\n",
    "   - 'High': >= 130\n",
    "3. `age_group` using `create_bins()` utility:\n",
    "   - Bins: [0, 40, 55, 70, 100]\n",
    "   - Labels: ['<40', '40-54', '55-69', '70+']\n",
    "4. `bmi_category` using standard BMI categories:\n",
    "   - Underweight: <18.5\n",
    "   - Normal: 18.5-24.9\n",
    "   - Overweight: 25-29.9\n",
    "   - Obese: >=30"
   ]
  },
  {
   "cell_type": "code",
   "execution_count": 3,
   "metadata": {
    "execution": {
     "iopub.execute_input": "2025-10-22T21:28:37.832779Z",
     "iopub.status.busy": "2025-10-22T21:28:37.832538Z",
     "iopub.status.idle": "2025-10-22T21:28:37.846701Z",
     "shell.execute_reply": "2025-10-22T21:28:37.845779Z"
    }
   },
   "outputs": [
    {
     "data": {
      "text/html": [
       "<div>\n",
       "<style scoped>\n",
       "    .dataframe tbody tr th:only-of-type {\n",
       "        vertical-align: middle;\n",
       "    }\n",
       "\n",
       "    .dataframe tbody tr th {\n",
       "        vertical-align: top;\n",
       "    }\n",
       "\n",
       "    .dataframe thead th {\n",
       "        text-align: right;\n",
       "    }\n",
       "</style>\n",
       "<table border=\"1\" class=\"dataframe\">\n",
       "  <thead>\n",
       "    <tr style=\"text-align: right;\">\n",
       "      <th></th>\n",
       "      <th>cholesterol_ratio</th>\n",
       "    </tr>\n",
       "  </thead>\n",
       "  <tbody>\n",
       "    <tr>\n",
       "      <th>0</th>\n",
       "      <td>0.745455</td>\n",
       "    </tr>\n",
       "    <tr>\n",
       "      <th>1</th>\n",
       "      <td>1.844828</td>\n",
       "    </tr>\n",
       "    <tr>\n",
       "      <th>2</th>\n",
       "      <td>1.464286</td>\n",
       "    </tr>\n",
       "    <tr>\n",
       "      <th>3</th>\n",
       "      <td>1.857143</td>\n",
       "    </tr>\n",
       "    <tr>\n",
       "      <th>4</th>\n",
       "      <td>0.961538</td>\n",
       "    </tr>\n",
       "  </tbody>\n",
       "</table>\n",
       "</div>"
      ],
      "text/plain": [
       "   cholesterol_ratio\n",
       "0           0.745455\n",
       "1           1.844828\n",
       "2           1.464286\n",
       "3           1.857143\n",
       "4           0.961538"
      ]
     },
     "execution_count": 3,
     "metadata": {},
     "output_type": "execute_result"
    }
   ],
   "source": [
    "# TODO: Calculate cholesterol ratio\n",
    "\n",
    "df_copy['cholesterol_ratio'] = df_copy['cholesterol_ldl'] / df_copy['cholesterol_hdl']\n",
    "df_copy[['cholesterol_ratio']].head()\n"
   ]
  },
  {
   "cell_type": "code",
   "execution_count": 4,
   "metadata": {
    "execution": {
     "iopub.execute_input": "2025-10-22T21:28:37.849186Z",
     "iopub.status.busy": "2025-10-22T21:28:37.848945Z",
     "iopub.status.idle": "2025-10-22T21:28:37.859717Z",
     "shell.execute_reply": "2025-10-22T21:28:37.858846Z"
    }
   },
   "outputs": [
    {
     "data": {
      "text/html": [
       "<div>\n",
       "<style scoped>\n",
       "    .dataframe tbody tr th:only-of-type {\n",
       "        vertical-align: middle;\n",
       "    }\n",
       "\n",
       "    .dataframe tbody tr th {\n",
       "        vertical-align: top;\n",
       "    }\n",
       "\n",
       "    .dataframe thead th {\n",
       "        text-align: right;\n",
       "    }\n",
       "</style>\n",
       "<table border=\"1\" class=\"dataframe\">\n",
       "  <thead>\n",
       "    <tr style=\"text-align: right;\">\n",
       "      <th></th>\n",
       "      <th>systolic_bp</th>\n",
       "      <th>bp_category</th>\n",
       "    </tr>\n",
       "  </thead>\n",
       "  <tbody>\n",
       "    <tr>\n",
       "      <th>0</th>\n",
       "      <td>123.0</td>\n",
       "      <td>Elevated</td>\n",
       "    </tr>\n",
       "    <tr>\n",
       "      <th>1</th>\n",
       "      <td>139.0</td>\n",
       "      <td>High</td>\n",
       "    </tr>\n",
       "    <tr>\n",
       "      <th>2</th>\n",
       "      <td>123.0</td>\n",
       "      <td>Elevated</td>\n",
       "    </tr>\n",
       "    <tr>\n",
       "      <th>3</th>\n",
       "      <td>116.0</td>\n",
       "      <td>Normal</td>\n",
       "    </tr>\n",
       "    <tr>\n",
       "      <th>4</th>\n",
       "      <td>97.0</td>\n",
       "      <td>Normal</td>\n",
       "    </tr>\n",
       "  </tbody>\n",
       "</table>\n",
       "</div>"
      ],
      "text/plain": [
       "   systolic_bp bp_category\n",
       "0        123.0    Elevated\n",
       "1        139.0        High\n",
       "2        123.0    Elevated\n",
       "3        116.0      Normal\n",
       "4         97.0      Normal"
      ]
     },
     "execution_count": 4,
     "metadata": {},
     "output_type": "execute_result"
    }
   ],
   "source": [
    "# TODO: Categorize blood pressure\n",
    "\n",
    "df_copy['bp_category'] = np.where(\n",
    "    df_copy['systolic_bp'] < 120, 'Normal',\n",
    "    np.where(df_copy['systolic_bp'] <=129, 'Elevated', 'High')\n",
    ")\n",
    "df_copy[['systolic_bp', 'bp_category']].head()\n",
    "\n"
   ]
  },
  {
   "cell_type": "markdown",
   "metadata": {},
   "source": [
    "**Note:** The `create_bins()` function has an optional `new_column` parameter. If you don't specify it, the new column will be named `{original_column}_binned`. You can use `new_column='age_group'` to give it a custom name.\n"
   ]
  },
  {
   "cell_type": "code",
   "execution_count": 5,
   "metadata": {
    "execution": {
     "iopub.execute_input": "2025-10-22T21:28:37.862070Z",
     "iopub.status.busy": "2025-10-22T21:28:37.861843Z",
     "iopub.status.idle": "2025-10-22T21:28:37.873372Z",
     "shell.execute_reply": "2025-10-22T21:28:37.872522Z"
    }
   },
   "outputs": [
    {
     "data": {
      "text/html": [
       "<div>\n",
       "<style scoped>\n",
       "    .dataframe tbody tr th:only-of-type {\n",
       "        vertical-align: middle;\n",
       "    }\n",
       "\n",
       "    .dataframe tbody tr th {\n",
       "        vertical-align: top;\n",
       "    }\n",
       "\n",
       "    .dataframe thead th {\n",
       "        text-align: right;\n",
       "    }\n",
       "</style>\n",
       "<table border=\"1\" class=\"dataframe\">\n",
       "  <thead>\n",
       "    <tr style=\"text-align: right;\">\n",
       "      <th></th>\n",
       "      <th>age</th>\n",
       "      <th>age_group</th>\n",
       "    </tr>\n",
       "  </thead>\n",
       "  <tbody>\n",
       "    <tr>\n",
       "      <th>0</th>\n",
       "      <td>80</td>\n",
       "      <td>70+</td>\n",
       "    </tr>\n",
       "    <tr>\n",
       "      <th>1</th>\n",
       "      <td>80</td>\n",
       "      <td>70+</td>\n",
       "    </tr>\n",
       "    <tr>\n",
       "      <th>2</th>\n",
       "      <td>82</td>\n",
       "      <td>70+</td>\n",
       "    </tr>\n",
       "    <tr>\n",
       "      <th>3</th>\n",
       "      <td>95</td>\n",
       "      <td>70+</td>\n",
       "    </tr>\n",
       "    <tr>\n",
       "      <th>4</th>\n",
       "      <td>95</td>\n",
       "      <td>70+</td>\n",
       "    </tr>\n",
       "  </tbody>\n",
       "</table>\n",
       "</div>"
      ],
      "text/plain": [
       "   age age_group\n",
       "0   80       70+\n",
       "1   80       70+\n",
       "2   82       70+\n",
       "3   95       70+\n",
       "4   95       70+"
      ]
     },
     "execution_count": 5,
     "metadata": {},
     "output_type": "execute_result"
    }
   ],
   "source": [
    "# TODO: Create age groups\n",
    "df_copy = create_bins(\n",
    "    df = df_copy,\n",
    "    column = 'age',\n",
    "    bins = [0, 40, 55, 70, 100],\n",
    "    labels = ['<40', '40-54', '55-69', '70+'],\n",
    "    new_column = 'age_group'\n",
    ")\n",
    "df_copy[['age', 'age_group']].head()"
   ]
  },
  {
   "cell_type": "code",
   "execution_count": 6,
   "metadata": {
    "execution": {
     "iopub.execute_input": "2025-10-22T21:28:37.875529Z",
     "iopub.status.busy": "2025-10-22T21:28:37.875278Z",
     "iopub.status.idle": "2025-10-22T21:28:37.885117Z",
     "shell.execute_reply": "2025-10-22T21:28:37.884394Z"
    }
   },
   "outputs": [
    {
     "data": {
      "text/html": [
       "<div>\n",
       "<style scoped>\n",
       "    .dataframe tbody tr th:only-of-type {\n",
       "        vertical-align: middle;\n",
       "    }\n",
       "\n",
       "    .dataframe tbody tr th {\n",
       "        vertical-align: top;\n",
       "    }\n",
       "\n",
       "    .dataframe thead th {\n",
       "        text-align: right;\n",
       "    }\n",
       "</style>\n",
       "<table border=\"1\" class=\"dataframe\">\n",
       "  <thead>\n",
       "    <tr style=\"text-align: right;\">\n",
       "      <th></th>\n",
       "      <th>bmi</th>\n",
       "      <th>bmi_category</th>\n",
       "    </tr>\n",
       "  </thead>\n",
       "  <tbody>\n",
       "    <tr>\n",
       "      <th>0</th>\n",
       "      <td>29.3</td>\n",
       "      <td>Overweight</td>\n",
       "    </tr>\n",
       "    <tr>\n",
       "      <th>1</th>\n",
       "      <td>NaN</td>\n",
       "      <td>Obese</td>\n",
       "    </tr>\n",
       "    <tr>\n",
       "      <th>2</th>\n",
       "      <td>-1.0</td>\n",
       "      <td>Underweight</td>\n",
       "    </tr>\n",
       "    <tr>\n",
       "      <th>3</th>\n",
       "      <td>25.4</td>\n",
       "      <td>Overweight</td>\n",
       "    </tr>\n",
       "    <tr>\n",
       "      <th>4</th>\n",
       "      <td>NaN</td>\n",
       "      <td>Obese</td>\n",
       "    </tr>\n",
       "  </tbody>\n",
       "</table>\n",
       "</div>"
      ],
      "text/plain": [
       "    bmi bmi_category\n",
       "0  29.3   Overweight\n",
       "1   NaN        Obese\n",
       "2  -1.0  Underweight\n",
       "3  25.4   Overweight\n",
       "4   NaN        Obese"
      ]
     },
     "execution_count": 6,
     "metadata": {},
     "output_type": "execute_result"
    }
   ],
   "source": [
    "# TODO: Create BMI categories\n",
    "df_copy['bmi_category'] = np.where(\n",
    "    df_copy['bmi'] < 18.5, 'Underweight',\n",
    "    np.where(df_copy['bmi'] <=24.9, 'Normal',\n",
    "    np.where(df_copy['bmi'] <=29.9, 'Overweight', 'Obese'))\n",
    ")\n",
    "df_copy[['bmi', 'bmi_category']].head()\n"
   ]
  },
  {
   "cell_type": "markdown",
   "metadata": {},
   "source": [
    "## Part 3: String Cleaning (2 points)\n",
    "\n",
    "If there are any string columns that need cleaning:\n",
    "1. Convert to lowercase\n",
    "2. Strip whitespace\n",
    "3. Replace any placeholder values"
   ]
  },
  {
   "cell_type": "code",
   "execution_count": 7,
   "metadata": {
    "execution": {
     "iopub.execute_input": "2025-10-22T21:28:37.887661Z",
     "iopub.status.busy": "2025-10-22T21:28:37.887453Z",
     "iopub.status.idle": "2025-10-22T21:28:37.911398Z",
     "shell.execute_reply": "2025-10-22T21:28:37.909795Z"
    }
   },
   "outputs": [],
   "source": [
    "# TODO: String cleaning\n",
    "placeholders = ['unknown', 'n/a', 'na', 'missing']\n",
    "\n",
    "for col in df_copy.select_dtypes(include = 'object').columns:\n",
    "    df_copy[col] = df_copy[col].str.lower()\n",
    "    df_copy[col] = df_copy[col].str.strip\n",
    "    df_copy[col] = df_copy[col].replace(placeholders, pd.NA)"
   ]
  },
  {
   "cell_type": "markdown",
   "metadata": {},
   "source": [
    "## Part 4: One-Hot Encoding (5 points)\n",
    "\n",
    "Create dummy variables for categorical columns:\n",
    "1. One-hot encode 'intervention_group' using `pd.get_dummies()`\n",
    "2. One-hot encode 'site'\n",
    "3. Drop the original categorical columns\n",
    "4. Show the new shape and column names"
   ]
  },
  {
   "cell_type": "code",
   "execution_count": 8,
   "metadata": {
    "execution": {
     "iopub.execute_input": "2025-10-22T21:28:37.914114Z",
     "iopub.status.busy": "2025-10-22T21:28:37.913824Z",
     "iopub.status.idle": "2025-10-22T21:28:37.923370Z",
     "shell.execute_reply": "2025-10-22T21:28:37.922429Z"
    }
   },
   "outputs": [
    {
     "name": "stdout",
     "output_type": "stream",
     "text": [
      "New Shape: (10000, 80)\n",
      "Column Names: ['patient_id', 'age', 'sex', 'bmi', 'enrollment_date', 'systolic_bp', 'diastolic_bp', 'cholesterol_total', 'cholesterol_hdl', 'cholesterol_ldl', 'glucose_fasting', 'follow_up_months', 'adverse_events', 'outcome_cvd', 'adherence_pct', 'dropout', 'cholesterol_ratio', 'bp_category', 'age_group', 'bmi_category', 'intervention_  CONTROL  ', 'intervention_  Contrl  ', 'intervention_  Control  ', 'intervention_  TREATMENT A  ', 'intervention_  TREATMENT B  ', 'intervention_  Treatmen A  ', 'intervention_  Treatment  B  ', 'intervention_  Treatment A  ', 'intervention_  Treatment B  ', 'intervention_  TreatmentA  ', 'intervention_  control  ', 'intervention_  treatment a  ', 'intervention_  treatment b  ', 'intervention_CONTROL', 'intervention_Contrl', 'intervention_Control', 'intervention_TREATMENT A', 'intervention_TREATMENT B', 'intervention_Treatmen A', 'intervention_Treatment  B', 'intervention_Treatment A', 'intervention_Treatment B', 'intervention_TreatmentA', 'intervention_control', 'intervention_treatment a', 'intervention_treatment b', 'site_  SITE A  ', 'site_  SITE B  ', 'site_  SITE C  ', 'site_  SITE D  ', 'site_  SITE E  ', 'site_  Site  A  ', 'site_  Site A  ', 'site_  Site B  ', 'site_  Site C  ', 'site_  Site D  ', 'site_  Site E  ', 'site_  Site_D  ', 'site_  site a  ', 'site_  site b  ', 'site_  site c  ', 'site_  site d  ', 'site_  site e  ', 'site_SITE A', 'site_SITE B', 'site_SITE C', 'site_SITE D', 'site_SITE E', 'site_Site  A', 'site_Site A', 'site_Site B', 'site_Site C', 'site_Site D', 'site_Site E', 'site_Site_D', 'site_site a', 'site_site b', 'site_site c', 'site_site d', 'site_site e']\n"
     ]
    }
   ],
   "source": [
    "# TODO: One-hot encoding\n",
    "dummies_intervention_group = pd.get_dummies(df_copy['intervention_group'], prefix = 'intervention')\n",
    "dummies_site = pd.get_dummies(df_copy['site'], prefix = 'site')\n",
    "df_copy = pd.concat([df_copy, dummies_intervention_group, dummies_site], axis=1)\n",
    "df_copy = df_copy.drop(['intervention_group', 'site'], axis=1)\n",
    "print('New Shape:', df_copy.shape)\n",
    "print('Column Names:', df_copy.columns.tolist())"
   ]
  },
  {
   "cell_type": "markdown",
   "metadata": {},
   "source": [
    "## Part 5: Save Transformed Data\n",
    "\n",
    "Save the fully transformed dataset to `output/q6_transformed_data.csv`"
   ]
  },
  {
   "cell_type": "code",
   "execution_count": 9,
   "metadata": {
    "execution": {
     "iopub.execute_input": "2025-10-22T21:28:37.925551Z",
     "iopub.status.busy": "2025-10-22T21:28:37.925341Z",
     "iopub.status.idle": "2025-10-22T21:28:38.411536Z",
     "shell.execute_reply": "2025-10-22T21:28:38.407876Z"
    }
   },
   "outputs": [],
   "source": [
    "# TODO: Save transformed data\n",
    "# df_transformed.to_csv('output/q6_transformed_data.csv', index=False)\n",
    "\n",
    "df_copy.to_csv('output/q6_transformed_data.csv', index = False)\n"
   ]
  }
 ],
 "metadata": {
  "kernelspec": {
   "display_name": ".venv",
   "language": "python",
   "name": "python3"
  },
  "language_info": {
   "codemirror_mode": {
    "name": "ipython",
    "version": 3
   },
   "file_extension": ".py",
   "mimetype": "text/x-python",
   "name": "python",
   "nbconvert_exporter": "python",
   "pygments_lexer": "ipython3",
   "version": "3.13.7"
  }
 },
 "nbformat": 4,
 "nbformat_minor": 2
}
